{
 "cells": [
  {
   "cell_type": "markdown",
   "metadata": {},
   "source": [
    "#### 01-Analyze \n",
    "\n",
    "Statistics the accuracy of building graph algorithm"
   ]
  },
  {
   "cell_type": "code",
   "execution_count": null,
   "metadata": {},
   "outputs": [],
   "source": [
    "import sys\n",
    "sys.path.append('..')"
   ]
  },
  {
   "cell_type": "code",
   "execution_count": null,
   "metadata": {
    "scrolled": false
   },
   "outputs": [],
   "source": [
    "import glob, os, time\n",
    "import json\n",
    "import numpy as np\n",
    "from collections import defaultdict\n",
    "\n",
    "from metadec.dataset.genome import SimGenomeDataset\n",
    "from metadec.model.dec import DEC\n",
    "from metadec.utils.utils import load_genomics\n",
    "from metadec.debug.visualize import store_results\n",
    "from metadec.utils.metrics import genome_acc"
   ]
  },
  {
   "cell_type": "markdown",
   "metadata": {},
   "source": [
    "#### Hyperparameter"
   ]
  },
  {
   "cell_type": "markdown",
   "metadata": {},
   "source": [
    "##### Training"
   ]
  },
  {
   "cell_type": "code",
   "execution_count": null,
   "metadata": {},
   "outputs": [],
   "source": [
    "RESULT_DIR = '../results'\n",
    "GEN_DATA_DIR = '../data'\n",
    "\n",
    "# Dir contains raw fasta data\n",
    "DATASET_DIR = GEN_DATA_DIR\n",
    "# Specifc dataset or all of them\n",
    "DATASET_NAME = 'S7'"
   ]
  },
  {
   "cell_type": "markdown",
   "metadata": {},
   "source": [
    "##### Graph "
   ]
  },
  {
   "cell_type": "code",
   "execution_count": null,
   "metadata": {},
   "outputs": [],
   "source": [
    "# Hyperparameters\n",
    "# Follows metaprob\n",
    "KMERS = [4]\n",
    "LMER = 30\n",
    "NUM_SHARED_READS = (5, 45)\n",
    "ONLY_SEED = True\n",
    "MAXIMUM_SEED_SIZE = 9000"
   ]
  },
  {
   "cell_type": "markdown",
   "metadata": {},
   "source": [
    "#### Initialize dirs"
   ]
  },
  {
   "cell_type": "code",
   "execution_count": null,
   "metadata": {},
   "outputs": [],
   "source": [
    "LOG_DIR = f'{RESULT_DIR}\\log'\n",
    "META_INFO =  '../config/dataset_metadata.json'\n",
    "LOG_DIR = os.path.join(LOG_DIR, 'analysis')\n",
    "\n",
    "for d in [LOG_DIR]:\n",
    "    if not os.path.exists(d):\n",
    "        os.makedirs(d)"
   ]
  },
  {
   "cell_type": "markdown",
   "metadata": {},
   "source": [
    "#### Loading metadata"
   ]
  },
  {
   "cell_type": "code",
   "execution_count": null,
   "metadata": {},
   "outputs": [],
   "source": [
    "raw_dir = os.path.join(DATASET_DIR, 'raw')\n",
    "processed_dir = os.path.join(DATASET_DIR, 'processed')\n",
    "if not os.path.exists(processed_dir):\n",
    "    os.makedirs(processed_dir)\n",
    "if DATASET_NAME == 'all':\n",
    "    raw_datasets = glob.glob(raw_dir + '/*.fna')\n",
    "else:\n",
    "    raw_datasets = [os.path.join(raw_dir, DATASET_NAME + '.fna')]\n",
    "\n",
    "# Mapping of dataset and its corresponding number of clusters\n",
    "with open(META_INFO, 'r') as f:\n",
    "    n_clusters_mapping = json.load(f)['simulated']"
   ]
  },
  {
   "cell_type": "code",
   "execution_count": null,
   "metadata": {},
   "outputs": [],
   "source": [
    "raw_datasets"
   ]
  },
  {
   "cell_type": "markdown",
   "metadata": {},
   "source": [
    "#### Running"
   ]
  },
  {
   "cell_type": "code",
   "execution_count": null,
   "metadata": {},
   "outputs": [],
   "source": [
    "dataset = '../data/raw/S1.fna'"
   ]
  },
  {
   "cell_type": "code",
   "execution_count": null,
   "metadata": {},
   "outputs": [],
   "source": [
    "def analyze_group_label(groups, labels):\n",
    "    # Assign groups labels from reads labels\n",
    "    # Dominant number of each label is the label of group\n",
    "    # [0 0 0 0 1 1 0] -> group has label 0 (5 > 2)\n",
    "    grps_label = []\n",
    "    groups_label_stats = []\n",
    "    for group in groups:\n",
    "        lb_type = defaultdict(lambda: 0)\n",
    "        for node in group:\n",
    "            lb_type[labels[node]] += 1\n",
    "        max_val = 0\n",
    "        key = -1\n",
    "        for kv in lb_type.items():\n",
    "            if kv[1] > max_val:\n",
    "                max_val = kv[1]\n",
    "                key = kv[0]\n",
    "        if key != -1:\n",
    "            groups_label_stats.append(max_val/sum([kv[1] for kv in lb_type.items()]))\n",
    "            \n",
    "    return sum(groups_label_stats)/len(groups_label_stats)"
   ]
  },
  {
   "cell_type": "code",
   "execution_count": null,
   "metadata": {},
   "outputs": [],
   "source": [
    "# Get some parameters\n",
    "dataset_name = os.path.basename(dataset).split('.fna')[0]\n",
    "\n",
    "num_shared_read = NUM_SHARED_READS[1] if 'R' in dataset_name else NUM_SHARED_READS[0]\n",
    "is_deserialize = os.path.exists(os.path.join(processed_dir, dataset_name + '.json'))\n",
    "n_clusters = n_clusters_mapping[dataset_name]\n",
    "\n",
    "seed_kmer_features, labels, groups, seeds = load_genomics(\n",
    "    dataset,\n",
    "    kmers=KMERS,\n",
    "    lmer=LMER,\n",
    "    maximum_seed_size=MAXIMUM_SEED_SIZE,\n",
    "    num_shared_reads=num_shared_read,\n",
    "    is_deserialize=is_deserialize,\n",
    "    is_serialize=~is_deserialize,\n",
    "    is_normalize=True,\n",
    "    only_seed=ONLY_SEED,\n",
    "    graph_file=os.path.join(processed_dir, dataset_name + '.json')\n",
    ")"
   ]
  },
  {
   "cell_type": "code",
   "execution_count": null,
   "metadata": {},
   "outputs": [],
   "source": [
    "analyze_group_label(groups, labels)"
   ]
  }
 ],
 "metadata": {
  "kernelspec": {
   "display_name": "Python 3",
   "language": "python",
   "name": "python3"
  },
  "language_info": {
   "codemirror_mode": {
    "name": "ipython",
    "version": 3
   },
   "file_extension": ".py",
   "mimetype": "text/x-python",
   "name": "python",
   "nbconvert_exporter": "python",
   "pygments_lexer": "ipython3",
   "version": "3.6.9"
  }
 },
 "nbformat": 4,
 "nbformat_minor": 2
}
